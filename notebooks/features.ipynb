{
 "cells": [
  {
   "cell_type": "code",
   "execution_count": 2,
   "metadata": {},
   "outputs": [],
   "source": [
    "import os\n",
    "import pandas as pd"
   ]
  },
  {
   "cell_type": "markdown",
   "metadata": {},
   "source": [
    "# Time Series Features Selection"
   ]
  },
  {
   "cell_type": "code",
   "execution_count": null,
   "metadata": {},
   "outputs": [],
   "source": []
  },
  {
   "cell_type": "markdown",
   "metadata": {},
   "source": [
    "### Calendar Features\n",
    "\n",
    "https://medium.com/@dataman-ai/tree-based-time-series-forecasting-246294730fc4"
   ]
  },
  {
   "cell_type": "code",
   "execution_count": 3,
   "metadata": {},
   "outputs": [],
   "source": [
    "def create_date_features(df):\n",
    "    df['month'] = df.date.dt.month\n",
    "    df['day_of_month'] = df.date.dt.day\n",
    "    df['day_of_year'] = df.date.dt.dayofyear\n",
    "    df['week_of_year'] = df.date.dt.weekofyear\n",
    "    df['day_of_week'] = df.date.dt.dayofweek + 1\n",
    "    df['year'] = df.date.dt.year\n",
    "    df['quarter'] = df.date.dt.quarter\n",
    "    df['hour_of_day'] = df.date.dt.hour\n",
    "    df['weekday'] = df.date.dt.weekday\n",
    "    df['is_year_start'] = df.date.dt.is_year_start.astype(int)\n",
    "    df['is_year_end'] = df.date.dt.is_year_end.astype(int)\n",
    "    df['is_month_start'] = df.date.dt.is_month_start.astype(int)\n",
    "    df['is_month_end'] = df.date.dt.is_month_end.astype(int)\n",
    "    df['is_quarter_start'] = df.date.dt.is_quarter_start.astype(int)\n",
    "    df['is_quarter_end'] = df.date.dt.is_quarter_end.astype(int)\n",
    "    df['is_quarter_end'] = df.date.dt.is_quarter_end.astype(int)\n",
    "    return df"
   ]
  },
  {
   "cell_type": "code",
   "execution_count": null,
   "metadata": {},
   "outputs": [],
   "source": []
  }
 ],
 "metadata": {
  "kernelspec": {
   "display_name": "tsa",
   "language": "python",
   "name": "python3"
  },
  "language_info": {
   "codemirror_mode": {
    "name": "ipython",
    "version": 3
   },
   "file_extension": ".py",
   "mimetype": "text/x-python",
   "name": "python",
   "nbconvert_exporter": "python",
   "pygments_lexer": "ipython3",
   "version": "3.9.18"
  }
 },
 "nbformat": 4,
 "nbformat_minor": 2
}
