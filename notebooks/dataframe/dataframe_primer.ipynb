{
 "cells": [
  {
   "cell_type": "markdown",
   "metadata": {},
   "source": [
    "### Update Values"
   ]
  },
  {
   "cell_type": "code",
   "execution_count": 4,
   "metadata": {},
   "outputs": [
    {
     "name": "stdout",
     "output_type": "stream",
     "text": [
      "   id     name  age                      email  in_company\n",
      "0   1  Michael   46  michael@dundermifflin.com        True\n",
      "1   2      Jim   35      jim@dundermifflin.com        True\n",
      "2   3      Pam   35      pam@dundermifflin.com        True\n",
      "3   4   Dwight   38   dwight@dundermifflin.com        True\n",
      "\n",
      "\n",
      "   id     name  age                      email  in_company\n",
      "0   1  Michael   47  michael@dundermifflin.com        True\n",
      "1   3      Pam   36      pam@dundermifflin.com        True\n",
      "2   4   Dwight   38    dwight@schrutefarms.com        True\n",
      "3   5    Kevin   41    kevin@dundermifflin.com        True\n",
      "4   6  Stanley   55  stanley@dundermifflin.com        True\n"
     ]
    }
   ],
   "source": [
    "import pandas as pd\n",
    "import numpy as np\n",
    "\n",
    "# Current employee dataset\n",
    "original = pd.DataFrame({\n",
    "\t\"id\": [1, 2, 3, 4], \n",
    "\t\"name\": [\"Michael\", \"Jim\", \"Pam\", \"Dwight\"], \n",
    "\t\"age\": [46, 35, 35, 38],\n",
    "\t\"email\": [\"michael@dundermifflin.com\", \"jim@dundermifflin.com\", \"pam@dundermifflin.com\", \"dwight@dundermifflin.com\"],\n",
    "\t\"in_company\": [True, True, True, True]\n",
    "})\n",
    "\n",
    "print(original)\n",
    "print(\"\\n\")\n",
    "# The latest employee listing. It has two new employees (ids 5 and 6)\\\n",
    "# and is missing one person from the previous data (id 2). Some employees\\\n",
    "# also updated their data\n",
    "new_data = pd.DataFrame({\n",
    "\t\"id\": [1, 3, 4, 5, 6], \n",
    "\t\"name\": [\"Michael\", \"Pam\", \"Dwight\", \"Kevin\", \"Stanley\"], \n",
    "\t\"age\": [47, 36, 38, 41, 55],\n",
    "\t\"email\": [\"michael@dundermifflin.com\", \"pam@dundermifflin.com\", \"dwight@schrutefarms.com\", \"kevin@dundermifflin.com\", \"stanley@dundermifflin.com\"],\n",
    "\t\"in_company\": [True, True, True, True, True]\n",
    "})\n",
    "\n",
    "print(new_data)\n",
    "\n",
    "# Update the employment status of employees missing in the new listing\n",
    "original.loc[~original[\"id\"].isin(new_data[\"id\"]), \"in_company\"] = False\n",
    "\n",
    "# # Append the new listing to the original to create a single DF\n",
    "# updated = original.append(new_data, ignore_index=True)\n",
    "# # For the employees in both DFs, keep only their latest information\\\n",
    "# # (rows are considered duplicate based on the \"id\")\n",
    "# updated = updated.drop_duplicates([\"id\"], keep=\"last\")\n",
    "# # Sort the employees by their id\n",
    "# updated.sort_values(\"id\", inplace=True)\n",
    "# # Reset the DF index after all the transformations (don't keep the\\\n",
    "# # previous index a.k.a. `drop=True`)\n",
    "# updated.reset_index(drop=True, inplace=True)\n",
    "\n",
    "# print(\"---Updated employee data:\\n\", updated)\n",
    "\n",
    "print(original)"
   ]
  },
  {
   "cell_type": "code",
   "execution_count": null,
   "metadata": {},
   "outputs": [],
   "source": []
  }
 ],
 "metadata": {
  "kernelspec": {
   "display_name": "tsa",
   "language": "python",
   "name": "python3"
  },
  "language_info": {
   "codemirror_mode": {
    "name": "ipython",
    "version": 3
   },
   "file_extension": ".py",
   "mimetype": "text/x-python",
   "name": "python",
   "nbconvert_exporter": "python",
   "pygments_lexer": "ipython3",
   "version": "3.9.18"
  }
 },
 "nbformat": 4,
 "nbformat_minor": 2
}
