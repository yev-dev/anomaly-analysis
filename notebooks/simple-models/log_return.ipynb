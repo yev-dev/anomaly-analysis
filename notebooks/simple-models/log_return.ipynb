{
 "cells": [
  {
   "cell_type": "markdown",
   "metadata": {},
   "source": [
    "### Log return\n",
    "\n",
    "[Why We Use Log Return in Finance]('https://medium.com/quant-factory/why-we-use-log-return-in-finance-349f8a2dc695')"
   ]
  },
  {
   "cell_type": "markdown",
   "metadata": {},
   "source": [
    "the daily price of Tesla and calculate log returns and simple percent change returns and then calculate the sum for the whole period."
   ]
  },
  {
   "cell_type": "code",
   "execution_count": 1,
   "metadata": {},
   "outputs": [],
   "source": [
    "import pandas as pd\n",
    "import numpy as np\n",
    "import matplotlib.pyplot as plt\n",
    "from datetime import date\n",
    "import yfinance as yf"
   ]
  },
  {
   "cell_type": "code",
   "execution_count": 2,
   "metadata": {},
   "outputs": [
    {
     "name": "stderr",
     "output_type": "stream",
     "text": [
      "[*********************100%%**********************]  1 of 1 completed\n"
     ]
    }
   ],
   "source": [
    "instrument = 'TSLA'\n",
    "start_date = '2022-01-01'\n",
    "end_date = date.today()\n",
    "\n",
    "stock = yf.download(instrument, start_date, end_date)"
   ]
  },
  {
   "cell_type": "markdown",
   "metadata": {},
   "source": [
    "Advantage 1: Log returns are additive"
   ]
  },
  {
   "cell_type": "code",
   "execution_count": 4,
   "metadata": {},
   "outputs": [
    {
     "data": {
      "text/plain": [
       "Date\n",
       "2022-01-03         NaN\n",
       "2022-01-04   -0.041833\n",
       "2022-01-05   -0.053471\n",
       "2022-01-06   -0.021523\n",
       "2022-01-07   -0.035447\n",
       "                ...   \n",
       "2024-03-04   -0.071555\n",
       "2024-03-05   -0.039332\n",
       "2024-03-06   -0.023238\n",
       "2024-03-07    0.011952\n",
       "2024-03-08   -0.018528\n",
       "Name: Adj Close, Length: 548, dtype: float64"
      ]
     },
     "execution_count": 4,
     "metadata": {},
     "output_type": "execute_result"
    }
   ],
   "source": [
    "stock['Adj Close'].pct_change()"
   ]
  },
  {
   "cell_type": "code",
   "execution_count": 5,
   "metadata": {},
   "outputs": [
    {
     "data": {
      "text/plain": [
       "Date\n",
       "2022-01-03          NaN\n",
       "2022-01-04   -16.730011\n",
       "2022-01-05   -20.489990\n",
       "2022-01-06    -7.806671\n",
       "2022-01-07   -12.579987\n",
       "                ...    \n",
       "2024-03-04   -14.500000\n",
       "2024-03-05    -7.399994\n",
       "2024-03-06    -4.200012\n",
       "2024-03-07     2.110001\n",
       "2024-03-08    -3.309998\n",
       "Name: Adj Close, Length: 548, dtype: float64"
      ]
     },
     "execution_count": 5,
     "metadata": {},
     "output_type": "execute_result"
    }
   ],
   "source": [
    "stock['Adj Close'].diff()"
   ]
  },
  {
   "cell_type": "code",
   "execution_count": 6,
   "metadata": {},
   "outputs": [
    {
     "name": "stdout",
     "output_type": "stream",
     "text": [
      "Log Returns: -0.8245542706749216\n",
      "Simple Returns: -0.44176433512742486\n"
     ]
    }
   ],
   "source": [
    "log_returns = np.log(stock['Adj Close']).diff().sum()\n",
    "\n",
    "simple_returns = stock['Adj Close'].pct_change().sum()\n",
    "\n",
    "print(f'Log Returns: {log_returns}')\n",
    "\n",
    "print(f'Simple Returns: {simple_returns}')"
   ]
  },
  {
   "cell_type": "markdown",
   "metadata": {},
   "source": [
    "Advantage 4: Log returns simplify complex calculations"
   ]
  },
  {
   "cell_type": "code",
   "execution_count": 7,
   "metadata": {},
   "outputs": [
    {
     "name": "stderr",
     "output_type": "stream",
     "text": [
      "[*********************100%%**********************]  1 of 1 completed\n",
      "[*********************100%%**********************]  1 of 1 completed\n",
      "[*********************100%%**********************]  1 of 1 completed"
     ]
    },
    {
     "name": "stdout",
     "output_type": "stream",
     "text": [
      "Cumulative portfolio return: -0.76%\n"
     ]
    },
    {
     "name": "stderr",
     "output_type": "stream",
     "text": [
      "\n"
     ]
    }
   ],
   "source": [
    "instrument = 'TSLA'\n",
    "\n",
    "instrument_2 = 'CAT'\n",
    "\n",
    "instrument_3 = 'NKE'\n",
    "\n",
    "stock = yf.download(instrument, start_date, end_date)\n",
    "\n",
    "stock_2 = yf.download(instrument_2, start_date, end_date)\n",
    "\n",
    "stock_3 = yf.download(instrument_3, start_date, end_date)\n",
    "\n",
    "asset1_log_returns = np.log(stock['Adj Close']).diff()\n",
    "asset2_log_returns = np.log(stock_2['Adj Close']).diff()\n",
    "asset3_log_returns = np.log(stock_3['Adj Close']).diff()\n",
    "\n",
    "\n",
    "portfolio_log_return = asset1_log_returns + asset2_log_returns + asset3_log_returns\n",
    "\n",
    "compound_return = portfolio_log_return.sum()\n",
    "\n",
    "print(f'Cumulative portfolio return: {round(compound_return,2)}%')"
   ]
  },
  {
   "cell_type": "code",
   "execution_count": null,
   "metadata": {},
   "outputs": [],
   "source": []
  }
 ],
 "metadata": {
  "kernelspec": {
   "display_name": "tsa",
   "language": "python",
   "name": "python3"
  },
  "language_info": {
   "codemirror_mode": {
    "name": "ipython",
    "version": 3
   },
   "file_extension": ".py",
   "mimetype": "text/x-python",
   "name": "python",
   "nbconvert_exporter": "python",
   "pygments_lexer": "ipython3",
   "version": "3.9.18"
  }
 },
 "nbformat": 4,
 "nbformat_minor": 2
}
