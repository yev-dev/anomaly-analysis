{
 "cells": [
  {
   "cell_type": "code",
   "execution_count": 3,
   "metadata": {},
   "outputs": [],
   "source": [
    "import os\n",
    "import pandas as pd"
   ]
  },
  {
   "cell_type": "code",
   "execution_count": 4,
   "metadata": {},
   "outputs": [],
   "source": [
    "from tsa.config import DATA_DIR"
   ]
  },
  {
   "cell_type": "code",
   "execution_count": 5,
   "metadata": {},
   "outputs": [],
   "source": [
    "historical_prices_5_yrs = os.path.join(DATA_DIR, 'prices_5yrs.csv')\n",
    "historical_prices_10_yrs = os.path.join(DATA_DIR, 'prices_10yrs.csv')"
   ]
  },
  {
   "cell_type": "code",
   "execution_count": 6,
   "metadata": {},
   "outputs": [
    {
     "data": {
      "text/plain": [
       "'/Users/yevgeniy/Development/projects/anomaly/time-series-analysis/data/prices_5yrs.csv'"
      ]
     },
     "execution_count": 6,
     "metadata": {},
     "output_type": "execute_result"
    }
   ],
   "source": [
    "historical_prices_5_yrs"
   ]
  },
  {
   "cell_type": "code",
   "execution_count": 7,
   "metadata": {},
   "outputs": [],
   "source": [
    "# df_5yr = pd.read_csv(historical_prices_5_yrs, parse_dates=['date'], index_col=0)\n",
    "df_5yr = pd.read_csv(historical_prices_5_yrs)\n"
   ]
  },
  {
   "cell_type": "code",
   "execution_count": 8,
   "metadata": {},
   "outputs": [
    {
     "name": "stdout",
     "output_type": "stream",
     "text": [
      "<class 'pandas.core.frame.DataFrame'>\n",
      "RangeIndex: 12590 entries, 0 to 12589\n",
      "Data columns (total 7 columns):\n",
      " #   Column  Non-Null Count  Dtype  \n",
      "---  ------  --------------  -----  \n",
      " 0   date    12590 non-null  object \n",
      " 1   ticker  12590 non-null  object \n",
      " 2   open    12590 non-null  float64\n",
      " 3   high    12590 non-null  float64\n",
      " 4   low     12590 non-null  float64\n",
      " 5   close   12590 non-null  float64\n",
      " 6   volume  12590 non-null  int64  \n",
      "dtypes: float64(4), int64(1), object(2)\n",
      "memory usage: 688.6+ KB\n"
     ]
    }
   ],
   "source": [
    "df_5yr.info()"
   ]
  },
  {
   "cell_type": "code",
   "execution_count": 9,
   "metadata": {},
   "outputs": [
    {
     "name": "stdout",
     "output_type": "stream",
     "text": [
      "<class 'pandas.core.frame.DataFrame'>\n",
      "DatetimeIndex: 12590 entries, 2016-04-26 to 2021-04-26\n",
      "Data columns (total 6 columns):\n",
      " #   Column  Non-Null Count  Dtype  \n",
      "---  ------  --------------  -----  \n",
      " 0   ticker  12590 non-null  object \n",
      " 1   open    12590 non-null  float64\n",
      " 2   high    12590 non-null  float64\n",
      " 3   low     12590 non-null  float64\n",
      " 4   close   12590 non-null  float64\n",
      " 5   volume  12590 non-null  int64  \n",
      "dtypes: float64(4), int64(1), object(1)\n",
      "memory usage: 688.5+ KB\n"
     ]
    }
   ],
   "source": [
    "df_5yr['date'] = pd.to_datetime(df_5yr['date'])\n",
    "df_5yr.set_index('date', inplace=True)\n",
    "df_5yr.info()"
   ]
  },
  {
   "cell_type": "code",
   "execution_count": null,
   "metadata": {},
   "outputs": [],
   "source": []
  }
 ],
 "metadata": {
  "kernelspec": {
   "display_name": "tsa",
   "language": "python",
   "name": "python3"
  },
  "language_info": {
   "codemirror_mode": {
    "name": "ipython",
    "version": 3
   },
   "file_extension": ".py",
   "mimetype": "text/x-python",
   "name": "python",
   "nbconvert_exporter": "python",
   "pygments_lexer": "ipython3",
   "version": "3.9.18"
  }
 },
 "nbformat": 4,
 "nbformat_minor": 2
}
